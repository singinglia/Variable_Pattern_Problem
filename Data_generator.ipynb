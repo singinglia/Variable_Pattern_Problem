{
 "cells": [
  {
   "cell_type": "code",
   "execution_count": 118,
   "id": "4f53656b",
   "metadata": {},
   "outputs": [],
   "source": [
    "import pandas as pd\n",
    "import numpy as np\n",
    "import random\n",
    "from random import *"
   ]
  },
  {
   "cell_type": "code",
   "execution_count": 3,
   "id": "e55c8a4f",
   "metadata": {},
   "outputs": [],
   "source": [
    "dict_nuc = {1:\"A\", 2:\"T\", 3:\"C\", 4:\"G\"}"
   ]
  },
  {
   "cell_type": "code",
   "execution_count": 5,
   "id": "7e2d5fc2",
   "metadata": {},
   "outputs": [],
   "source": [
    "def make_pat(num_patterns, len_pattern):\n",
    "    set_pats = set()\n",
    "    dict_nuc = {1:\"A\", 2:\"T\", 3:\"C\", 4:\"G\"}\n",
    "    \n",
    "    while len(set_pats) != num_patterns:\n",
    "        s_temp = ''.join(pd.Series(np.random.randint(low=1, high=4, size=len_pattern)).map(dict_nuc).values)\n",
    "        set_pats.add(s_temp)\n",
    "    return set_pats\n",
    "        "
   ]
  },
  {
   "cell_type": "code",
   "execution_count": 6,
   "id": "d8e7a421",
   "metadata": {
    "scrolled": true
   },
   "outputs": [
    {
     "data": {
      "text/plain": [
       "{'AAT', 'CCA', 'CTC', 'TAA', 'TAT'}"
      ]
     },
     "execution_count": 6,
     "metadata": {},
     "output_type": "execute_result"
    }
   ],
   "source": [
    "make_pat(5,3)"
   ]
  },
  {
   "cell_type": "code",
   "execution_count": 105,
   "id": "b25f9f82",
   "metadata": {},
   "outputs": [],
   "source": [
    "def add_pats_to_str(pat, string, gap = 1):\n",
    "    locs = np.random.choice(np.arange(0,len(string) - len(pat[0]), len(pat[0])+gap ), size=len(pat), replace=False)\n",
    "    locs = sorted(locs)\n",
    "    print(locs)\n",
    "    for i in range(len(locs)):\n",
    "        string = string[:locs[i]] + pat[i] + string[locs[i]+len(pat[i]):]\n",
    "    return string, locs"
   ]
  },
  {
   "cell_type": "code",
   "execution_count": 104,
   "id": "cac9686c",
   "metadata": {},
   "outputs": [
    {
     "name": "stdout",
     "output_type": "stream",
     "text": [
      "[0, 8, 12]\n"
     ]
    },
    {
     "data": {
      "text/plain": [
       "('AAT00000TAC0ATG00', [0, 8, 12])"
      ]
     },
     "execution_count": 104,
     "metadata": {},
     "output_type": "execute_result"
    }
   ],
   "source": [
    "add_pats_to_str([\"AAT\", \"TAC\", \"ATG\"], \"00000000000000000\")"
   ]
  },
  {
   "cell_type": "code",
   "execution_count": 78,
   "id": "fbf38ce4",
   "metadata": {},
   "outputs": [],
   "source": [
    "def make_str_without_pats(pat, len_string):\n",
    "    string = \"\"\n",
    "    dict_nuc = {1:\"A\", 2:\"T\", 3:\"C\", 4:\"G\"}\n",
    "    s_temp = ''.join(pd.Series(np.random.randint(low=1, high=4, size=len_string)).map(dict_nuc).values)\n",
    "    locs = [s_temp.find(x) for x in pat]\n",
    "    locs = list(filter((-1).__ne__, locs)).copy()\n",
    "    kkk = 2\n",
    "    while len(locs) != 0:\n",
    "        for idx in locs:\n",
    "            list_nuc = [\"A\",\"T\", \"C\", \"G\"]\n",
    "            list_nuc.remove(s_temp[idx])\n",
    "            s_temp = s_temp[:idx] + np.random.choice(list_nuc, size=1)[0] + s_temp[idx+1:] \n",
    "        locs = [s_temp.find(x) for x in pat]\n",
    "        locs = list(filter((-1).__ne__, locs)).copy()\n",
    "        kkk -=1\n",
    "    return s_temp\n"
   ]
  },
  {
   "cell_type": "code",
   "execution_count": 106,
   "id": "a5d21595",
   "metadata": {},
   "outputs": [
    {
     "data": {
      "text/plain": [
       "'CACATATCTCCCAAAAAACCGATATATACCACACATTCTC'"
      ]
     },
     "execution_count": 106,
     "metadata": {},
     "output_type": "execute_result"
    }
   ],
   "source": [
    "make_str_without_pats([\"AAT\", \"ACT\", \"TTT\"], 40)"
   ]
  },
  {
   "cell_type": "code",
   "execution_count": 107,
   "id": "0c5897d1",
   "metadata": {},
   "outputs": [
    {
     "name": "stdout",
     "output_type": "stream",
     "text": [
      "[0, 8, 16]\n",
      "[0, 4, 12]\n",
      "[0, 8, 12]\n",
      "[0, 8, 16]\n",
      "[0, 8, 16]\n"
     ]
    },
    {
     "name": "stderr",
     "output_type": "stream",
     "text": [
      "/var/folders/_8/tqnhz5dn2q77dh1l3q_btskc0000gn/T/ipykernel_2510/2308054454.py:15: FutureWarning: The frame.append method is deprecated and will be removed from pandas in a future version. Use pandas.concat instead.\n",
      "  df = df.append(new_row, ignore_index=True)\n",
      "/var/folders/_8/tqnhz5dn2q77dh1l3q_btskc0000gn/T/ipykernel_2510/2308054454.py:15: FutureWarning: The frame.append method is deprecated and will be removed from pandas in a future version. Use pandas.concat instead.\n",
      "  df = df.append(new_row, ignore_index=True)\n",
      "/var/folders/_8/tqnhz5dn2q77dh1l3q_btskc0000gn/T/ipykernel_2510/2308054454.py:15: FutureWarning: The frame.append method is deprecated and will be removed from pandas in a future version. Use pandas.concat instead.\n",
      "  df = df.append(new_row, ignore_index=True)\n",
      "/var/folders/_8/tqnhz5dn2q77dh1l3q_btskc0000gn/T/ipykernel_2510/2308054454.py:15: FutureWarning: The frame.append method is deprecated and will be removed from pandas in a future version. Use pandas.concat instead.\n",
      "  df = df.append(new_row, ignore_index=True)\n",
      "/var/folders/_8/tqnhz5dn2q77dh1l3q_btskc0000gn/T/ipykernel_2510/2308054454.py:15: FutureWarning: The frame.append method is deprecated and will be removed from pandas in a future version. Use pandas.concat instead.\n",
      "  df = df.append(new_row, ignore_index=True)\n"
     ]
    },
    {
     "data": {
      "text/html": [
       "<div>\n",
       "<style scoped>\n",
       "    .dataframe tbody tr th:only-of-type {\n",
       "        vertical-align: middle;\n",
       "    }\n",
       "\n",
       "    .dataframe tbody tr th {\n",
       "        vertical-align: top;\n",
       "    }\n",
       "\n",
       "    .dataframe thead th {\n",
       "        text-align: right;\n",
       "    }\n",
       "</style>\n",
       "<table border=\"1\" class=\"dataframe\">\n",
       "  <thead>\n",
       "    <tr style=\"text-align: right;\">\n",
       "      <th></th>\n",
       "      <th>String</th>\n",
       "      <th>Patterns</th>\n",
       "      <th>Location</th>\n",
       "      <th>Exclusion</th>\n",
       "    </tr>\n",
       "  </thead>\n",
       "  <tbody>\n",
       "    <tr>\n",
       "      <th>0</th>\n",
       "      <td>TTCACCTCACAATCACACTA</td>\n",
       "      <td>[TTC, ACA, ACT]</td>\n",
       "      <td>[0, 8, 16]</td>\n",
       "      <td>NaN</td>\n",
       "    </tr>\n",
       "    <tr>\n",
       "      <th>1</th>\n",
       "      <td>TTCAACACATAAACTCAGCT</td>\n",
       "      <td>[TTC, ACA, ACT]</td>\n",
       "      <td>[0, 4, 12]</td>\n",
       "      <td>NaN</td>\n",
       "    </tr>\n",
       "    <tr>\n",
       "      <th>2</th>\n",
       "      <td>TTCCTAAAACACACTTCATT</td>\n",
       "      <td>[TTC, ACA, ACT]</td>\n",
       "      <td>[0, 8, 12]</td>\n",
       "      <td>NaN</td>\n",
       "    </tr>\n",
       "    <tr>\n",
       "      <th>3</th>\n",
       "      <td>TTCCACCAACAAATCTACTC</td>\n",
       "      <td>[TTC, ACA, ACT]</td>\n",
       "      <td>[0, 8, 16]</td>\n",
       "      <td>NaN</td>\n",
       "    </tr>\n",
       "    <tr>\n",
       "      <th>4</th>\n",
       "      <td>TTCCCAGCACACCATGACTC</td>\n",
       "      <td>[TTC, ACA, ACT]</td>\n",
       "      <td>[0, 8, 16]</td>\n",
       "      <td>NaN</td>\n",
       "    </tr>\n",
       "  </tbody>\n",
       "</table>\n",
       "</div>"
      ],
      "text/plain": [
       "                 String         Patterns    Location Exclusion\n",
       "0  TTCACCTCACAATCACACTA  [TTC, ACA, ACT]  [0, 8, 16]       NaN\n",
       "1  TTCAACACATAAACTCAGCT  [TTC, ACA, ACT]  [0, 4, 12]       NaN\n",
       "2  TTCCTAAAACACACTTCATT  [TTC, ACA, ACT]  [0, 8, 12]       NaN\n",
       "3  TTCCACCAACAAATCTACTC  [TTC, ACA, ACT]  [0, 8, 16]       NaN\n",
       "4  TTCCCAGCACACCATGACTC  [TTC, ACA, ACT]  [0, 8, 16]       NaN"
      ]
     },
     "execution_count": 107,
     "metadata": {},
     "output_type": "execute_result"
    }
   ],
   "source": [
    "df = pd.DataFrame(columns = [\"String\", \"Patterns\", \"Location\", \"Exclusion\"])\n",
    "\n",
    "num_strings = 5\n",
    "len_strings = 20\n",
    "len_pattern = 3\n",
    "num_patterns= 3\n",
    "pats = make_pat(num_patterns, len_pattern) # make patterns list\n",
    "pats = list(pats)\n",
    "while num_strings > 0:\n",
    "#     randomly choose the number of patters to be in this string\n",
    "#     np.random.randint(low=1, high=4, size=len_pattern)\n",
    "    st = make_str_without_pats(pats, len_strings) # create strings without pattern list\n",
    "    st, locs = add_pats_to_str(pats, st) # add patern list to string at random places with atleast 1 gap\n",
    "    new_row = {\"String\" : st, \"Patterns\": pats, \"Location\": locs}\n",
    "    df = df.append(new_row, ignore_index=True)\n",
    "    num_strings -=1\n",
    "\n",
    "        \n",
    "df  "
   ]
  },
  {
   "cell_type": "code",
   "execution_count": 109,
   "id": "d8d38619",
   "metadata": {},
   "outputs": [
    {
     "data": {
      "text/html": [
       "<div>\n",
       "<style scoped>\n",
       "    .dataframe tbody tr th:only-of-type {\n",
       "        vertical-align: middle;\n",
       "    }\n",
       "\n",
       "    .dataframe tbody tr th {\n",
       "        vertical-align: top;\n",
       "    }\n",
       "\n",
       "    .dataframe thead th {\n",
       "        text-align: right;\n",
       "    }\n",
       "</style>\n",
       "<table border=\"1\" class=\"dataframe\">\n",
       "  <thead>\n",
       "    <tr style=\"text-align: right;\">\n",
       "      <th></th>\n",
       "      <th>String</th>\n",
       "      <th>Patterns</th>\n",
       "      <th>Location</th>\n",
       "      <th>Exclusion</th>\n",
       "    </tr>\n",
       "  </thead>\n",
       "  <tbody>\n",
       "    <tr>\n",
       "      <th>0</th>\n",
       "      <td>TTCACCTCACAATCACACTA</td>\n",
       "      <td>[TTC, ACA, ACT]</td>\n",
       "      <td>[0, 8, 16]</td>\n",
       "      <td>NaN</td>\n",
       "    </tr>\n",
       "    <tr>\n",
       "      <th>1</th>\n",
       "      <td>TTCAACACATAAACTCAGCT</td>\n",
       "      <td>[TTC, ACA, ACT]</td>\n",
       "      <td>[0, 4, 12]</td>\n",
       "      <td>NaN</td>\n",
       "    </tr>\n",
       "    <tr>\n",
       "      <th>2</th>\n",
       "      <td>TTCCTAAAACACACTTCATT</td>\n",
       "      <td>[TTC, ACA, ACT]</td>\n",
       "      <td>[0, 8, 12]</td>\n",
       "      <td>NaN</td>\n",
       "    </tr>\n",
       "    <tr>\n",
       "      <th>3</th>\n",
       "      <td>TTCCACCAACAAATCTACTC</td>\n",
       "      <td>[TTC, ACA, ACT]</td>\n",
       "      <td>[0, 8, 16]</td>\n",
       "      <td>NaN</td>\n",
       "    </tr>\n",
       "    <tr>\n",
       "      <th>4</th>\n",
       "      <td>TTCCCAGCACACCATGACTC</td>\n",
       "      <td>[TTC, ACA, ACT]</td>\n",
       "      <td>[0, 8, 16]</td>\n",
       "      <td>NaN</td>\n",
       "    </tr>\n",
       "  </tbody>\n",
       "</table>\n",
       "</div>"
      ],
      "text/plain": [
       "                 String         Patterns    Location Exclusion\n",
       "0  TTCACCTCACAATCACACTA  [TTC, ACA, ACT]  [0, 8, 16]       NaN\n",
       "1  TTCAACACATAAACTCAGCT  [TTC, ACA, ACT]  [0, 4, 12]       NaN\n",
       "2  TTCCTAAAACACACTTCATT  [TTC, ACA, ACT]  [0, 8, 12]       NaN\n",
       "3  TTCCACCAACAAATCTACTC  [TTC, ACA, ACT]  [0, 8, 16]       NaN\n",
       "4  TTCCCAGCACACCATGACTC  [TTC, ACA, ACT]  [0, 8, 16]       NaN"
      ]
     },
     "execution_count": 109,
     "metadata": {},
     "output_type": "execute_result"
    }
   ],
   "source": [
    "df"
   ]
  },
  {
   "cell_type": "code",
   "execution_count": 113,
   "id": "ff542e8d",
   "metadata": {},
   "outputs": [
    {
     "data": {
      "text/plain": [
       "20"
      ]
     },
     "execution_count": 113,
     "metadata": {},
     "output_type": "execute_result"
    }
   ],
   "source": []
  },
  {
   "cell_type": "code",
   "execution_count": 127,
   "id": "e9ee465a",
   "metadata": {},
   "outputs": [
    {
     "name": "stdout",
     "output_type": "stream",
     "text": [
      "6\n",
      "5\n",
      "3\n",
      "2\n",
      "0\n",
      "['ACA', 'ACA', 'ACA', 'ACA', 'ACA']\n"
     ]
    }
   ],
   "source": [
    "# %%time\n",
    "best_motifs = []\n",
    "min_score = 10000\n",
    "count = 0\n",
    "while count < 1000:\n",
    "    motifs = GibbsSampler(df[\"String\"].values, len_pattern, len(df), min(df[\"String\"].str.len()) )\n",
    "    ss = Score(motifs)\n",
    "    if ss < min_score:\n",
    "        best_motifs = motifs\n",
    "        min_score = ss\n",
    "        print(ss)\n",
    "    count += 1\n",
    "\n",
    "print(best_motifs)"
   ]
  },
  {
   "cell_type": "code",
   "execution_count": 128,
   "id": "d9c37fef",
   "metadata": {},
   "outputs": [],
   "source": [
    "# # questions\n",
    "# 1. How approx is the sol\n",
    "# 2. Explain exclusion string -> still not clear\n",
    "# 3. Order vs approx sol"
   ]
  },
  {
   "cell_type": "code",
   "execution_count": 125,
   "id": "1e38994b",
   "metadata": {},
   "outputs": [],
   "source": [
    "def ProfileProb(seq, k, prob_dic):\n",
    "    minn = 0\n",
    "    min_pat = []\n",
    "    for i in range(len(seq) - k + 1):\n",
    "        pat = seq[i:i+k]\n",
    "        seq_sum = 0\n",
    "        for j in range(k):\n",
    "            seq_sum += prob_dic[pat[j]][j]\n",
    "        if minn < seq_sum:\n",
    "            minn = seq_sum\n",
    "            min_pat = pat\n",
    "    return min_pat\n",
    "\n",
    "def Score(motiff):\n",
    "    k = len(motiff[0])\n",
    "    score_mat = {\"A\": [0]*k, \"C\": [0]*k, \"G\": [0]*k, \"T\": [0]*k}\n",
    "    for nei in motiff:\n",
    "        idx = 0\n",
    "        for nuc in str(nei):\n",
    "            score_mat[nuc][idx] +=1\n",
    "            idx+=1\n",
    "    score = 0\n",
    "    smat = list(zip(*score_mat.values()))\n",
    "    for i in range(k):\n",
    "            score = score + sum(smat[i]) - max(smat[i])\n",
    "    return score\n",
    "\n",
    "def Profile_creator(motiff):\n",
    "    k = len(motiff[0])\n",
    "    profile_matrix = {\"A\": [1]*k, \"C\": [1]*k, \"G\": [1]*k, \"T\": [1]*k}\n",
    "    for nei in motiff:\n",
    "        idx = 0\n",
    "        for nuc in str(nei):\n",
    "            profile_matrix[nuc][idx] +=1\n",
    "            idx+=1\n",
    "    for j in range(k):\n",
    "        col_sum =0\n",
    "        for i in [\"A\", \"C\", \"G\", \"T\"]:\n",
    "            col_sum += profile_matrix[i][j]\n",
    "        for i in [\"A\", \"C\", \"G\", \"T\"]:\n",
    "            profile_matrix[i][j] = profile_matrix[i][j]/col_sum\n",
    "    return profile_matrix\n",
    "\n",
    "def RandomMotif(seq, k, prob_dic):\n",
    "    rand_dic = {}    \n",
    "    for i in range(len(seq) - k +1):\n",
    "        pat = seq[i:i+k]\n",
    "        seq_sum = 1\n",
    "        for j in range(k):\n",
    "            seq_sum *= prob_dic[pat[j]][j]\n",
    "        rand_dic[pat] = seq_sum\n",
    "        \n",
    "    keey = choices(list(rand_dic.keys()), weights=list(rand_dic.values()))  \n",
    "    return keey[0]\n",
    "\n",
    "def GibbsSampler(dna_list, k, t, N):\n",
    "    motiff = []\n",
    "    for seq in dna_list:\n",
    "        rand = randint(0, len(seq)- k)\n",
    "        motiff.append(seq[rand: rand + k])\n",
    "    best_motif = motiff\n",
    "    for j in range(N):\n",
    "        i = randint(0,t-1)\n",
    "#         print(best_motif)\n",
    "#         print(i)\n",
    "        prof = Profile_creator(best_motif[:i] + best_motif[i+1:])\n",
    "        ith_motif = RandomMotif(dna_list[i], k, prof)\n",
    "#         print(ith_motif)\n",
    "        motiff = best_motif[:i] + [ith_motif] + best_motif[i+1:]\n",
    "        if Score(motiff) < Score(best_motif):\n",
    "            best_motif = motiff.copy()\n",
    "        return best_motif"
   ]
  },
  {
   "cell_type": "code",
   "execution_count": null,
   "id": "d158b788",
   "metadata": {},
   "outputs": [],
   "source": []
  }
 ],
 "metadata": {
  "kernelspec": {
   "display_name": "Python 3 (ipykernel)",
   "language": "python",
   "name": "python3"
  },
  "language_info": {
   "codemirror_mode": {
    "name": "ipython",
    "version": 3
   },
   "file_extension": ".py",
   "mimetype": "text/x-python",
   "name": "python",
   "nbconvert_exporter": "python",
   "pygments_lexer": "ipython3",
   "version": "3.8.13"
  }
 },
 "nbformat": 4,
 "nbformat_minor": 5
}
